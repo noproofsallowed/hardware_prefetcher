{
 "cells": [
  {
   "cell_type": "code",
   "execution_count": 1,
   "id": "09900286-c886-48a6-9140-2d9abc8f1b6e",
   "metadata": {},
   "outputs": [],
   "source": [
    "from tqdm.notebook import tqdm, trange"
   ]
  },
  {
   "cell_type": "code",
   "execution_count": 2,
   "id": "6fe46bdd-de20-405c-8953-5061cc9894b0",
   "metadata": {},
   "outputs": [],
   "source": [
    "trace_names = [\"tiny\", \"testgen\", \"ls\", \"plamap\", \"g++\", \"grep\"]\n",
    "trace_name = trace_names[2]\n",
    "trace_path = \"./traces/{}.trace\".format(trace_name)\n",
    "data = []\n",
    "cycles_since_start = 0\n",
    "with open(trace_path, \"r\") as fp:\n",
    "    for line in fp:\n",
    "        raw = line.split()\n",
    "        lors = raw[0]\n",
    "        addr = int(raw[1], 16)\n",
    "        pc = int(raw[2], 16)\n",
    "        cycles_since_last = int(raw[3])\n",
    "        cycles_since_start += cycles_since_last\n",
    "        data.append({\n",
    "            \"lors\": lors,\n",
    "            \"addr\": addr,\n",
    "            \"pc\": pc,\n",
    "            \"cycles_since_last\": cycles_since_last,\n",
    "            \"cycles_since_start\": cycles_since_start\n",
    "        })"
   ]
  },
  {
   "cell_type": "code",
   "execution_count": 3,
   "id": "609a51c8-708f-4fb1-8ab8-946578a39580",
   "metadata": {},
   "outputs": [
    {
     "name": "stdout",
     "output_type": "stream",
     "text": [
      "299327\n"
     ]
    }
   ],
   "source": [
    "print(len(data))\n",
    "n = len(data)"
   ]
  },
  {
   "cell_type": "code",
   "execution_count": null,
   "id": "24b375e9-b2cc-4742-872b-55925c55a766",
   "metadata": {},
   "outputs": [],
   "source": [
    "dn = [[-1 for i in range(n)] for j in range(n)]\n",
    "bt = [[-1 for i in range(n)] for j in range(n)]\n",
    "\n",
    "maxstride = 0\n",
    "for i in trange(n):\n",
    "    dn[i][i] = 1\n",
    "    for j in range(i):\n",
    "        for k in range(j+1):\n",
    "            if data[i][\"addr\"]-data[j][\"addr\"]!=data[j][\"addr\"]-data[k][\"addr\"]:\n",
    "                continue\n",
    "            if dn[j][k] == -1:\n",
    "                continue\n",
    "            if dn[j][k]+1 > dn[i][j]:\n",
    "                dn[i][j] = dn[j][k]+1\n",
    "                maxstride = max(maxstride, dn[i][j])\n",
    "                bt[i][j] = k"
   ]
  },
  {
   "cell_type": "code",
   "execution_count": null,
   "id": "234024de-dc0c-498b-b133-77f6e0a160ed",
   "metadata": {},
   "outputs": [],
   "source": [
    "strides = []\n",
    "for i in trange(n):\n",
    "    for j in range(i+1):\n",
    "        if dn[i][j] == -1:\n",
    "            continue\n",
    "        strides.append({\"i\": i, \"j\": j, \"dn\": dn[i][j]})\n",
    "strides.sort(key=lambda i:i[\"dn\"], reverse=True)\n",
    "print(len(strides))"
   ]
  },
  {
   "cell_type": "code",
   "execution_count": null,
   "id": "38f6c1bd-9e59-4e62-aad8-67df2f81a5a4",
   "metadata": {},
   "outputs": [],
   "source": [
    "def print_stride(num):\n",
    "    print(strides[num])\n",
    "    a = strides[num][\"i\"]\n",
    "    b= strides[num][\"j\"]\n",
    "    print(\"Longest stride:\")\n",
    "    while bt[a][b] != -1:\n",
    "        c = bt[a][b]\n",
    "        a = b\n",
    "        b = c\n",
    "        print(\"{}: type={}, addr={}, pc={}\".format(a, data[a][\"lors\"], data[a][\"addr\"], data[a][\"pc\"]))\n",
    "        \n",
    "print_stride(1000)"
   ]
  },
  {
   "cell_type": "code",
   "execution_count": null,
   "id": "5b07a51c-4120-4739-b428-e9e7f1067a13",
   "metadata": {},
   "outputs": [],
   "source": [
    "from collections import Counter\n",
    "stride_lens = [x[\"dn\"] for x in strides]\n",
    "print(len(stride_lens))\n",
    "print(dict(Counter(stride_lens)))"
   ]
  }
 ],
 "metadata": {
  "kernelspec": {
   "display_name": "cs203-env",
   "language": "python",
   "name": "cs203-env"
  },
  "language_info": {
   "codemirror_mode": {
    "name": "ipython",
    "version": 3
   },
   "file_extension": ".py",
   "mimetype": "text/x-python",
   "name": "python",
   "nbconvert_exporter": "python",
   "pygments_lexer": "ipython3",
   "version": "3.9.4"
  }
 },
 "nbformat": 4,
 "nbformat_minor": 5
}
